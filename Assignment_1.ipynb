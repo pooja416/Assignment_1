{
 "cells": [
  {
   "cell_type": "code",
   "execution_count": 1,
   "metadata": {},
   "outputs": [
    {
     "name": "stdout",
     "output_type": "stream",
     "text": [
      "Enter size of list : 4\n",
      "Enter the Elements : 2\n",
      "Enter the Elements : 8\n",
      "Enter the Elements : 2\n",
      "Enter the Elements : 3\n",
      "[8, 2, 3]\n"
     ]
    }
   ],
   "source": [
    "# remove all the duplicates in the given list \n",
    "l=[]\n",
    "n=int(input('Enter size of list : '))\n",
    "for i in range(n):\n",
    "    e=int(input('Enter the Elements : '))\n",
    "    l.append(e)\n",
    "l=list(set(l))\n",
    "print(l)"
   ]
  },
  {
   "cell_type": "code",
   "execution_count": 2,
   "metadata": {},
   "outputs": [
    {
     "name": "stdout",
     "output_type": "stream",
     "text": [
      "Enter size of list : 5\n",
      "Enter the Elements : 2\n",
      "Enter the Elements : 9\n",
      "Enter the Elements : 6\n",
      "Enter the Elements : 1\n",
      "Enter the Elements : 0\n",
      "\n",
      "length of tuple is :  5\n",
      "sum of all the elements of a tuple :  18\n",
      "Smallest element of tuple :  0\n",
      "Largest element of tuple :  9\n"
     ]
    }
   ],
   "source": [
    "# create a user defined tuple with ‘int’ data type\n",
    "t=[]\n",
    "n=int(input('Enter size of list : '))\n",
    "for i in range(n):\n",
    "    e=int(input('Enter the Elements : '))\n",
    "    t.append(e)\n",
    "t=tuple(t)\n",
    "print('\\nlength of tuple is : ',len(t))      # Find the length of tuples\n",
    "print('sum of all the elements of a tuple : ',sum(t))  # Find the sum of all the elements of a tuple\n",
    "print('Smallest element of tuple : ',min(t))   # Find the smallest elements of a tuple \n",
    "print('Largest element of tuple : ',max(t))    # Find the largest elements of a tuple"
   ]
  },
  {
   "cell_type": "code",
   "execution_count": 3,
   "metadata": {},
   "outputs": [
    {
     "name": "stdout",
     "output_type": "stream",
     "text": [
      "num= 13\n",
      "i= 1\n",
      "15\n"
     ]
    }
   ],
   "source": [
    "#Change the ith bit of that number to 1\n",
    "num=int(input('num= '))\n",
    "i=int(input('i= '))\n",
    "magic_num=i<<1\n",
    "new_num=magic_num|num\n",
    "print(new_num)\n"
   ]
  },
  {
   "cell_type": "code",
   "execution_count": 4,
   "metadata": {},
   "outputs": [
    {
     "name": "stdout",
     "output_type": "stream",
     "text": [
      "n= 13\n",
      "1\n"
     ]
    }
   ],
   "source": [
    "#find the given number is even or odd without use of if else condition\n",
    "n=int(input('n= '))\n",
    "l=[0,1]\n",
    "while(n%2==0):\n",
    "    print(l[0])\n",
    "    break\n",
    "while(n%2!=0):\n",
    "    print(l[1])\n",
    "    break\n"
   ]
  },
  {
   "cell_type": "code",
   "execution_count": 5,
   "metadata": {},
   "outputs": [
    {
     "name": "stdout",
     "output_type": "stream",
     "text": [
      "\n",
      "Enter the number of first list\n",
      "Enter element : 2\n",
      "Enter element : 7\n",
      "Enter element : 9\n",
      "Enter element : 3\n",
      "Enter element : 0\n",
      "\n",
      "Enter the number of second list\n",
      "Enter element : 4\n",
      "Enter element : 7\n",
      "Enter element : 1\n",
      "Enter element : 3\n",
      "Enter element : 8\n",
      "merged list [2, 7, 9, 3, 0, 4, 7, 1, 3, 8]\n",
      "Sorted list is: [0, 1, 2, 3, 3, 4, 7, 7, 8, 9]\n"
     ]
    }
   ],
   "source": [
    "# merge two unsorted list\n",
    "list1=[]\n",
    "list2=[]\n",
    "print('\\nEnter the number of first list')\n",
    "for i in range(5):\n",
    "    a=int(input(\"Enter element : \"))\n",
    "    list1.append(a)\n",
    "print('\\nEnter the number of second list')\n",
    "for i in range(5):\n",
    "    b=int(input(\"Enter element : \"))\n",
    "    list2.append(b)\n",
    "merge=list1+list2\n",
    "print('merged list',merge)\n",
    "merge.sort()   # Sort the merge list\n",
    "print(\"Sorted list is:\",merge)"
   ]
  },
  {
   "cell_type": "code",
   "execution_count": 6,
   "metadata": {},
   "outputs": [
    {
     "name": "stdout",
     "output_type": "stream",
     "text": [
      "Enter the values:\n",
      "Enter element : 70\n",
      "Enter element : 0\n",
      "Enter element : 5\n",
      "Enter element : 100\n",
      "Enter the keys:\n",
      "Enter element : Berlin\n",
      "Enter element : Oslo\n",
      "Enter element : Moscow\n",
      "Enter element : Nairobi\n",
      "[(0, 'Oslo'), (5, 'Moscow'), (70, 'Berlin'), (100, 'Nairobi')]\n"
     ]
    }
   ],
   "source": [
    "# Create a user defined dictionary and sort dictionary\n",
    "key=[]\n",
    "value=[]\n",
    "print('Enter the values:')\n",
    "for i in range(1,5):\n",
    "    a=int(input(\"Enter element : \"))\n",
    "    value.append(a)\n",
    "print('Enter the keys:')\n",
    "for i in range(1,5):\n",
    "    b=input(\"Enter element : \")\n",
    "    key.append(b)\n",
    "d=dict(zip(value,key))\n",
    "print(sorted(d.items()))"
   ]
  },
  {
   "cell_type": "code",
   "execution_count": null,
   "metadata": {},
   "outputs": [],
   "source": []
  }
 ],
 "metadata": {
  "kernelspec": {
   "display_name": "Python 3",
   "language": "python",
   "name": "python3"
  },
  "language_info": {
   "codemirror_mode": {
    "name": "ipython",
    "version": 3
   },
   "file_extension": ".py",
   "mimetype": "text/x-python",
   "name": "python",
   "nbconvert_exporter": "python",
   "pygments_lexer": "ipython3",
   "version": "3.7.6"
  }
 },
 "nbformat": 4,
 "nbformat_minor": 4
}
